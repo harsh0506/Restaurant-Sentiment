{
 "cells": [
  {
   "cell_type": "code",
   "execution_count": 1,
   "id": "exempt-cigarette",
   "metadata": {},
   "outputs": [],
   "source": []
  },
  {
   "cell_type": "code",
   "execution_count": 1,
   "id": "unlimited-symphony",
   "metadata": {},
   "outputs": [],
   "source": [
    "from sklearn.feature_extraction.text import TfidfVectorizer\n",
    "from sklearn.preprocessing import FunctionTransformer\n",
    "from sklearn.model_selection import train_test_split, cross_val_score\n",
    "from sklearn.naive_bayes import MultinomialNB\n",
    "from sklearn.pipeline import Pipeline\n",
    "from sklearn.metrics import roc_auc_score\n",
    "from nltk.stem import WordNetLemmatizer\n",
    "from nltk.tokenize import TweetTokenizer\n",
    "from nltk.corpus import stopwords\n",
    "from nltk.tag import pos_tag\n",
    "import pandas as pd\n",
    "import numpy as np\n",
    "import chardet\n",
    "import matplotlib.pyplot as plt\n",
    "import seaborn as sns\n",
    "%matplotlib inline\n",
    "from plotly import graph_objs as go\n",
    "import plotly.express as px\n",
    "import plotly.figure_factory as ff"
   ]
  },
  {
   "cell_type": "code",
   "execution_count": 3,
   "id": "monthly-ridge",
   "metadata": {},
   "outputs": [],
   "source": [
    "RDF1 = pd.read_csv('../data/Restaurant reviews.csv')\n",
    "RDF2 = pd.read_csv('../data/Restaurant_Reviews.tsv', delimiter='\\t')\n",
    "RDF3 = pd.read_csv('../data/Yelp Restaurant Reviews.csv')"
   ]
  },
  {
   "cell_type": "code",
   "execution_count": 4,
   "id": "parliamentary-hobby",
   "metadata": {},
   "outputs": [
    {
     "data": {
      "text/html": [
       "<div>\n",
       "<style scoped>\n",
       "    .dataframe tbody tr th:only-of-type {\n",
       "        vertical-align: middle;\n",
       "    }\n",
       "\n",
       "    .dataframe tbody tr th {\n",
       "        vertical-align: top;\n",
       "    }\n",
       "\n",
       "    .dataframe thead th {\n",
       "        text-align: right;\n",
       "    }\n",
       "</style>\n",
       "<table border=\"1\" class=\"dataframe\">\n",
       "  <thead>\n",
       "    <tr style=\"text-align: right;\">\n",
       "      <th></th>\n",
       "      <th>Pictures</th>\n",
       "      <th>7514</th>\n",
       "    </tr>\n",
       "  </thead>\n",
       "  <tbody>\n",
       "    <tr>\n",
       "      <th>count</th>\n",
       "      <td>10000.000000</td>\n",
       "      <td>1.0</td>\n",
       "    </tr>\n",
       "    <tr>\n",
       "      <th>mean</th>\n",
       "      <td>0.748600</td>\n",
       "      <td>2447.0</td>\n",
       "    </tr>\n",
       "    <tr>\n",
       "      <th>std</th>\n",
       "      <td>2.570381</td>\n",
       "      <td>NaN</td>\n",
       "    </tr>\n",
       "    <tr>\n",
       "      <th>min</th>\n",
       "      <td>0.000000</td>\n",
       "      <td>2447.0</td>\n",
       "    </tr>\n",
       "    <tr>\n",
       "      <th>25%</th>\n",
       "      <td>0.000000</td>\n",
       "      <td>2447.0</td>\n",
       "    </tr>\n",
       "    <tr>\n",
       "      <th>50%</th>\n",
       "      <td>0.000000</td>\n",
       "      <td>2447.0</td>\n",
       "    </tr>\n",
       "    <tr>\n",
       "      <th>75%</th>\n",
       "      <td>0.000000</td>\n",
       "      <td>2447.0</td>\n",
       "    </tr>\n",
       "    <tr>\n",
       "      <th>max</th>\n",
       "      <td>64.000000</td>\n",
       "      <td>2447.0</td>\n",
       "    </tr>\n",
       "  </tbody>\n",
       "</table>\n",
       "</div>"
      ],
      "text/plain": [
       "           Pictures    7514\n",
       "count  10000.000000     1.0\n",
       "mean       0.748600  2447.0\n",
       "std        2.570381     NaN\n",
       "min        0.000000  2447.0\n",
       "25%        0.000000  2447.0\n",
       "50%        0.000000  2447.0\n",
       "75%        0.000000  2447.0\n",
       "max       64.000000  2447.0"
      ]
     },
     "execution_count": 4,
     "metadata": {},
     "output_type": "execute_result"
    }
   ],
   "source": [
    "RDF1.describe()"
   ]
  },
  {
   "cell_type": "code",
   "execution_count": 4,
   "id": "forward-symphony",
   "metadata": {},
   "outputs": [
    {
     "data": {
      "text/html": [
       "<div>\n",
       "<style scoped>\n",
       "    .dataframe tbody tr th:only-of-type {\n",
       "        vertical-align: middle;\n",
       "    }\n",
       "\n",
       "    .dataframe tbody tr th {\n",
       "        vertical-align: top;\n",
       "    }\n",
       "\n",
       "    .dataframe thead th {\n",
       "        text-align: right;\n",
       "    }\n",
       "</style>\n",
       "<table border=\"1\" class=\"dataframe\">\n",
       "  <thead>\n",
       "    <tr style=\"text-align: right;\">\n",
       "      <th></th>\n",
       "      <th>Rating</th>\n",
       "    </tr>\n",
       "  </thead>\n",
       "  <tbody>\n",
       "    <tr>\n",
       "      <th>count</th>\n",
       "      <td>19896.000000</td>\n",
       "    </tr>\n",
       "    <tr>\n",
       "      <th>mean</th>\n",
       "      <td>4.130830</td>\n",
       "    </tr>\n",
       "    <tr>\n",
       "      <th>std</th>\n",
       "      <td>1.200746</td>\n",
       "    </tr>\n",
       "    <tr>\n",
       "      <th>min</th>\n",
       "      <td>1.000000</td>\n",
       "    </tr>\n",
       "    <tr>\n",
       "      <th>25%</th>\n",
       "      <td>4.000000</td>\n",
       "    </tr>\n",
       "    <tr>\n",
       "      <th>50%</th>\n",
       "      <td>5.000000</td>\n",
       "    </tr>\n",
       "    <tr>\n",
       "      <th>75%</th>\n",
       "      <td>5.000000</td>\n",
       "    </tr>\n",
       "    <tr>\n",
       "      <th>max</th>\n",
       "      <td>5.000000</td>\n",
       "    </tr>\n",
       "  </tbody>\n",
       "</table>\n",
       "</div>"
      ],
      "text/plain": [
       "             Rating\n",
       "count  19896.000000\n",
       "mean       4.130830\n",
       "std        1.200746\n",
       "min        1.000000\n",
       "25%        4.000000\n",
       "50%        5.000000\n",
       "75%        5.000000\n",
       "max        5.000000"
      ]
     },
     "execution_count": 4,
     "metadata": {},
     "output_type": "execute_result"
    }
   ],
   "source": [
    "RDF3.describe()"
   ]
  },
  {
   "cell_type": "code",
   "execution_count": 5,
   "id": "aware-crack",
   "metadata": {},
   "outputs": [
    {
     "name": "stdout",
     "output_type": "stream",
     "text": [
      "<class 'pandas.core.frame.DataFrame'>\n",
      "RangeIndex: 10000 entries, 0 to 9999\n",
      "Data columns (total 8 columns):\n",
      " #   Column      Non-Null Count  Dtype  \n",
      "---  ------      --------------  -----  \n",
      " 0   Restaurant  10000 non-null  object \n",
      " 1   Reviewer    9962 non-null   object \n",
      " 2   Review      9955 non-null   object \n",
      " 3   Rating      9962 non-null   object \n",
      " 4   Metadata    9962 non-null   object \n",
      " 5   Time        9962 non-null   object \n",
      " 6   Pictures    10000 non-null  int64  \n",
      " 7   7514        1 non-null      float64\n",
      "dtypes: float64(1), int64(1), object(6)\n",
      "memory usage: 625.1+ KB\n",
      "None\n",
      "<class 'pandas.core.frame.DataFrame'>\n",
      "RangeIndex: 19896 entries, 0 to 19895\n",
      "Data columns (total 4 columns):\n",
      " #   Column       Non-Null Count  Dtype \n",
      "---  ------       --------------  ----- \n",
      " 0   Yelp URL     19896 non-null  object\n",
      " 1   Rating       19896 non-null  int64 \n",
      " 2   Date         19896 non-null  object\n",
      " 3   Review Text  19896 non-null  object\n",
      "dtypes: int64(1), object(3)\n",
      "memory usage: 621.9+ KB\n",
      "None\n"
     ]
    }
   ],
   "source": [
    "print(RDF1.info())\n",
    "print(RDF3.info())"
   ]
  },
  {
   "cell_type": "code",
   "execution_count": 6,
   "id": "classical-abortion",
   "metadata": {},
   "outputs": [
    {
     "data": {
      "text/html": [
       "<div>\n",
       "<style scoped>\n",
       "    .dataframe tbody tr th:only-of-type {\n",
       "        vertical-align: middle;\n",
       "    }\n",
       "\n",
       "    .dataframe tbody tr th {\n",
       "        vertical-align: top;\n",
       "    }\n",
       "\n",
       "    .dataframe thead th {\n",
       "        text-align: right;\n",
       "    }\n",
       "</style>\n",
       "<table border=\"1\" class=\"dataframe\">\n",
       "  <thead>\n",
       "    <tr style=\"text-align: right;\">\n",
       "      <th></th>\n",
       "      <th>Restaurant</th>\n",
       "      <th>Reviewer</th>\n",
       "      <th>Review</th>\n",
       "      <th>Rating</th>\n",
       "      <th>Metadata</th>\n",
       "      <th>Time</th>\n",
       "      <th>Pictures</th>\n",
       "      <th>7514</th>\n",
       "    </tr>\n",
       "  </thead>\n",
       "  <tbody>\n",
       "    <tr>\n",
       "      <th>0</th>\n",
       "      <td>Beyond Flavours</td>\n",
       "      <td>Rusha Chakraborty</td>\n",
       "      <td>The ambience was good, food was quite good . h...</td>\n",
       "      <td>5</td>\n",
       "      <td>1 Review , 2 Followers</td>\n",
       "      <td>5/25/2019 15:54</td>\n",
       "      <td>0</td>\n",
       "      <td>2447.0</td>\n",
       "    </tr>\n",
       "    <tr>\n",
       "      <th>1</th>\n",
       "      <td>Beyond Flavours</td>\n",
       "      <td>Anusha Tirumalaneedi</td>\n",
       "      <td>Ambience is too good for a pleasant evening. S...</td>\n",
       "      <td>5</td>\n",
       "      <td>3 Reviews , 2 Followers</td>\n",
       "      <td>5/25/2019 14:20</td>\n",
       "      <td>0</td>\n",
       "      <td>NaN</td>\n",
       "    </tr>\n",
       "    <tr>\n",
       "      <th>2</th>\n",
       "      <td>Beyond Flavours</td>\n",
       "      <td>Ashok Shekhawat</td>\n",
       "      <td>A must try.. great food great ambience. Thnx f...</td>\n",
       "      <td>5</td>\n",
       "      <td>2 Reviews , 3 Followers</td>\n",
       "      <td>5/24/2019 22:54</td>\n",
       "      <td>0</td>\n",
       "      <td>NaN</td>\n",
       "    </tr>\n",
       "    <tr>\n",
       "      <th>3</th>\n",
       "      <td>Beyond Flavours</td>\n",
       "      <td>Swapnil Sarkar</td>\n",
       "      <td>Soumen das and Arun was a great guy. Only beca...</td>\n",
       "      <td>5</td>\n",
       "      <td>1 Review , 1 Follower</td>\n",
       "      <td>5/24/2019 22:11</td>\n",
       "      <td>0</td>\n",
       "      <td>NaN</td>\n",
       "    </tr>\n",
       "    <tr>\n",
       "      <th>4</th>\n",
       "      <td>Beyond Flavours</td>\n",
       "      <td>Dileep</td>\n",
       "      <td>Food is good.we ordered Kodi drumsticks and ba...</td>\n",
       "      <td>5</td>\n",
       "      <td>3 Reviews , 2 Followers</td>\n",
       "      <td>5/24/2019 21:37</td>\n",
       "      <td>0</td>\n",
       "      <td>NaN</td>\n",
       "    </tr>\n",
       "  </tbody>\n",
       "</table>\n",
       "</div>"
      ],
      "text/plain": [
       "        Restaurant              Reviewer  \\\n",
       "0  Beyond Flavours     Rusha Chakraborty   \n",
       "1  Beyond Flavours  Anusha Tirumalaneedi   \n",
       "2  Beyond Flavours       Ashok Shekhawat   \n",
       "3  Beyond Flavours        Swapnil Sarkar   \n",
       "4  Beyond Flavours                Dileep   \n",
       "\n",
       "                                              Review Rating  \\\n",
       "0  The ambience was good, food was quite good . h...      5   \n",
       "1  Ambience is too good for a pleasant evening. S...      5   \n",
       "2  A must try.. great food great ambience. Thnx f...      5   \n",
       "3  Soumen das and Arun was a great guy. Only beca...      5   \n",
       "4  Food is good.we ordered Kodi drumsticks and ba...      5   \n",
       "\n",
       "                  Metadata             Time  Pictures    7514  \n",
       "0   1 Review , 2 Followers  5/25/2019 15:54         0  2447.0  \n",
       "1  3 Reviews , 2 Followers  5/25/2019 14:20         0     NaN  \n",
       "2  2 Reviews , 3 Followers  5/24/2019 22:54         0     NaN  \n",
       "3    1 Review , 1 Follower  5/24/2019 22:11         0     NaN  \n",
       "4  3 Reviews , 2 Followers  5/24/2019 21:37         0     NaN  "
      ]
     },
     "execution_count": 6,
     "metadata": {},
     "output_type": "execute_result"
    }
   ],
   "source": [
    "RDF1.head()"
   ]
  },
  {
   "cell_type": "code",
   "execution_count": 7,
   "id": "eleven-capability",
   "metadata": {},
   "outputs": [
    {
     "data": {
      "text/html": [
       "<div>\n",
       "<style scoped>\n",
       "    .dataframe tbody tr th:only-of-type {\n",
       "        vertical-align: middle;\n",
       "    }\n",
       "\n",
       "    .dataframe tbody tr th {\n",
       "        vertical-align: top;\n",
       "    }\n",
       "\n",
       "    .dataframe thead th {\n",
       "        text-align: right;\n",
       "    }\n",
       "</style>\n",
       "<table border=\"1\" class=\"dataframe\">\n",
       "  <thead>\n",
       "    <tr style=\"text-align: right;\">\n",
       "      <th></th>\n",
       "      <th>Yelp URL</th>\n",
       "      <th>Rating</th>\n",
       "      <th>Date</th>\n",
       "      <th>Review Text</th>\n",
       "    </tr>\n",
       "  </thead>\n",
       "  <tbody>\n",
       "    <tr>\n",
       "      <th>0</th>\n",
       "      <td>https://www.yelp.com/biz/sidney-dairy-barn-sidney</td>\n",
       "      <td>5</td>\n",
       "      <td>1/22/2022</td>\n",
       "      <td>All I can say is they have very good ice cream...</td>\n",
       "    </tr>\n",
       "    <tr>\n",
       "      <th>1</th>\n",
       "      <td>https://www.yelp.com/biz/sidney-dairy-barn-sidney</td>\n",
       "      <td>4</td>\n",
       "      <td>6/26/2022</td>\n",
       "      <td>Nice little local place for ice cream.My favor...</td>\n",
       "    </tr>\n",
       "    <tr>\n",
       "      <th>2</th>\n",
       "      <td>https://www.yelp.com/biz/sidney-dairy-barn-sidney</td>\n",
       "      <td>5</td>\n",
       "      <td>8/7/2021</td>\n",
       "      <td>A delicious treat on a hot day! Staff was very...</td>\n",
       "    </tr>\n",
       "    <tr>\n",
       "      <th>3</th>\n",
       "      <td>https://www.yelp.com/biz/sidney-dairy-barn-sidney</td>\n",
       "      <td>4</td>\n",
       "      <td>7/28/2016</td>\n",
       "      <td>This was great service and a fun crew! I got t...</td>\n",
       "    </tr>\n",
       "    <tr>\n",
       "      <th>4</th>\n",
       "      <td>https://www.yelp.com/biz/sidney-dairy-barn-sidney</td>\n",
       "      <td>5</td>\n",
       "      <td>6/23/2015</td>\n",
       "      <td>This is one of my favorite places to get ice c...</td>\n",
       "    </tr>\n",
       "  </tbody>\n",
       "</table>\n",
       "</div>"
      ],
      "text/plain": [
       "                                            Yelp URL  Rating       Date  \\\n",
       "0  https://www.yelp.com/biz/sidney-dairy-barn-sidney       5  1/22/2022   \n",
       "1  https://www.yelp.com/biz/sidney-dairy-barn-sidney       4  6/26/2022   \n",
       "2  https://www.yelp.com/biz/sidney-dairy-barn-sidney       5   8/7/2021   \n",
       "3  https://www.yelp.com/biz/sidney-dairy-barn-sidney       4  7/28/2016   \n",
       "4  https://www.yelp.com/biz/sidney-dairy-barn-sidney       5  6/23/2015   \n",
       "\n",
       "                                         Review Text  \n",
       "0  All I can say is they have very good ice cream...  \n",
       "1  Nice little local place for ice cream.My favor...  \n",
       "2  A delicious treat on a hot day! Staff was very...  \n",
       "3  This was great service and a fun crew! I got t...  \n",
       "4  This is one of my favorite places to get ice c...  "
      ]
     },
     "execution_count": 7,
     "metadata": {},
     "output_type": "execute_result"
    }
   ],
   "source": [
    "RDF3.head()"
   ]
  },
  {
   "cell_type": "code",
   "execution_count": 5,
   "id": "simple-guest",
   "metadata": {},
   "outputs": [],
   "source": [
    "RDF1 = RDF1[[\"Review\" , \"Rating\"]]\n",
    "RDF3 = RDF3[[\"Review Text\" , \"Rating\"]]"
   ]
  },
  {
   "cell_type": "code",
   "execution_count": 9,
   "id": "unlike-laugh",
   "metadata": {},
   "outputs": [
    {
     "data": {
      "text/plain": [
       "<AxesSubplot:xlabel='Rating', ylabel='count'>"
      ]
     },
     "execution_count": 9,
     "metadata": {},
     "output_type": "execute_result"
    },
    {
     "data": {
      "image/png": "[encoded data removed]",
      "text/plain": [
       "<Figure size 864x432 with 1 Axes>"
      ]
     },
     "metadata": {
      "needs_background": "light"
     },
     "output_type": "display_data"
    }
   ],
   "source": [
    "plt.figure(figsize=(12,6))\n",
    "sns.countplot(x='Rating',data=RDF1)"
   ]
  },
  {
   "cell_type": "code",
   "execution_count": 10,
   "id": "promotional-controversy",
   "metadata": {},
   "outputs": [
    {
     "data": {
      "text/plain": [
       "<AxesSubplot:xlabel='Rating', ylabel='count'>"
      ]
     },
     "execution_count": 10,
     "metadata": {},
     "output_type": "execute_result"
    },
    {
     "data": {
      "image/png": "[encoded data removed]",
      "text/plain": [
       "<Figure size 864x432 with 1 Axes>"
      ]
     },
     "metadata": {
      "needs_background": "light"
     },
     "output_type": "display_data"
    }
   ],
   "source": [
    "plt.figure(figsize=(12,6))\n",
    "sns.countplot(x='Rating',data=RDF3)"
   ]
  },
  {
   "cell_type": "code",
   "execution_count": 6,
   "id": "acknowledged-lesson",
   "metadata": {},
   "outputs": [],
   "source": [
    "def balance_dataset(df, column_name, sample_size):\n",
    "    # Step 1: Drop null values\n",
    "    df = df.dropna()\n",
    "\n",
    "    # Step 2: Remove text values and convert number strings to integers\n",
    "    df.loc[:, column_name] = df[column_name].apply(lambda x: int(float(x)) if str(x).isnumeric() else np.nan)\n",
    "    df = df.dropna()\n",
    "\n",
    "    # Step 3: Perform floor division\n",
    "    df.loc[:, column_name] = df[column_name] // 1\n",
    "\n",
    "    # Step 4: Calculate the smallest distribution\n",
    "    smallest_distribution = df[column_name].value_counts().min()\n",
    "\n",
    "    # Step 5: Take a sample of the smallest distribution\n",
    "    balanced_data = df.groupby(column_name).apply(lambda x: x.sample(n=smallest_distribution, random_state=42)).reset_index(drop=True)\n",
    "\n",
    "    # Step 6: Return the balanced dataset\n",
    "    return balanced_data\n"
   ]
  },
  {
   "cell_type": "code",
   "execution_count": 7,
   "id": "english-polls",
   "metadata": {},
   "outputs": [],
   "source": [
    "RDF1 = balance_dataset(RDF1, 'Rating', 700)\n",
    "RDF3 = balance_dataset(RDF3, 'Rating', 700)"
   ]
  },
  {
   "cell_type": "code",
   "execution_count": 8,
   "id": "frank-calvin",
   "metadata": {},
   "outputs": [],
   "source": [
    "RDF1 = RDF1.rename(columns={'Review': 'Review Text'})\n",
    "concatenated_data = pd.concat([RDF1[['Review Text', 'Rating']], RDF3[['Review Text', 'Rating']]])\n",
    "concatenated_data = concatenated_data.reset_index(drop=True)\n",
    "df = concatenated_data \n",
    "df['Rating'] = df['Rating'].apply(lambda x: 0 if x <= 2 else 1)"
   ]
  },
  {
   "cell_type": "code",
   "execution_count": 24,
   "id": "located-blink",
   "metadata": {},
   "outputs": [
    {
     "name": "stdout",
     "output_type": "stream",
     "text": [
      "<class 'pandas.core.frame.DataFrame'>\n",
      "RangeIndex: 9505 entries, 0 to 9504\n",
      "Data columns (total 2 columns):\n",
      " #   Column       Non-Null Count  Dtype \n",
      "---  ------       --------------  ----- \n",
      " 0   Review Text  9505 non-null   object\n",
      " 1   Rating       9505 non-null   int64 \n",
      "dtypes: int64(1), object(1)\n",
      "memory usage: 148.6+ KB\n"
     ]
    }
   ],
   "source": [
    "df.info()"
   ]
  },
  {
   "cell_type": "code",
   "execution_count": 26,
   "id": "furnished-andrews",
   "metadata": {},
   "outputs": [
    {
     "data": {
      "text/html": [
       "<div>\n",
       "<style scoped>\n",
       "    .dataframe tbody tr th:only-of-type {\n",
       "        vertical-align: middle;\n",
       "    }\n",
       "\n",
       "    .dataframe tbody tr th {\n",
       "        vertical-align: top;\n",
       "    }\n",
       "\n",
       "    .dataframe thead th {\n",
       "        text-align: right;\n",
       "    }\n",
       "</style>\n",
       "<table border=\"1\" class=\"dataframe\">\n",
       "  <thead>\n",
       "    <tr style=\"text-align: right;\">\n",
       "      <th></th>\n",
       "      <th>Rating</th>\n",
       "    </tr>\n",
       "  </thead>\n",
       "  <tbody>\n",
       "    <tr>\n",
       "      <th>count</th>\n",
       "      <td>9505.000000</td>\n",
       "    </tr>\n",
       "    <tr>\n",
       "      <th>mean</th>\n",
       "      <td>0.600000</td>\n",
       "    </tr>\n",
       "    <tr>\n",
       "      <th>std</th>\n",
       "      <td>0.489924</td>\n",
       "    </tr>\n",
       "    <tr>\n",
       "      <th>min</th>\n",
       "      <td>0.000000</td>\n",
       "    </tr>\n",
       "    <tr>\n",
       "      <th>25%</th>\n",
       "      <td>0.000000</td>\n",
       "    </tr>\n",
       "    <tr>\n",
       "      <th>50%</th>\n",
       "      <td>1.000000</td>\n",
       "    </tr>\n",
       "    <tr>\n",
       "      <th>75%</th>\n",
       "      <td>1.000000</td>\n",
       "    </tr>\n",
       "    <tr>\n",
       "      <th>max</th>\n",
       "      <td>1.000000</td>\n",
       "    </tr>\n",
       "  </tbody>\n",
       "</table>\n",
       "</div>"
      ],
      "text/plain": [
       "            Rating\n",
       "count  9505.000000\n",
       "mean      0.600000\n",
       "std       0.489924\n",
       "min       0.000000\n",
       "25%       0.000000\n",
       "50%       1.000000\n",
       "75%       1.000000\n",
       "max       1.000000"
      ]
     },
     "execution_count": 26,
     "metadata": {},
     "output_type": "execute_result"
    }
   ],
   "source": [
    "df.describe()"
   ]
  },
  {
   "cell_type": "code",
   "execution_count": 9,
   "id": "electronic-spring",
   "metadata": {},
   "outputs": [],
   "source": [
    "def Freq(num,colname):\n",
    "    top_n = 5\n",
    "    column_name = colname\n",
    "    filtered_df = df[df['Rating'] == num]\n",
    "    \n",
    "    # Concatenate all the review text into a single string\n",
    "    reviews = ' '.join(filtered_df[column_name].astype(str))\n",
    "    \n",
    "    # Split the text into individual words\n",
    "    words = reviews.split()\n",
    "    \n",
    "    # Count the frequency of each word\n",
    "    word_counter = pd.Series(words).value_counts()\n",
    "    \n",
    "    # Retrieve the top N most common words\n",
    "    top_words = word_counter.head(top_n)\n",
    "    \n",
    "    return top_words"
   ]
  },
  {
   "cell_type": "code",
   "execution_count": 10,
   "id": "cathedral-immunology",
   "metadata": {},
   "outputs": [
    {
     "data": {
      "text/plain": [
       "the    13570\n",
       "and     9768\n",
       "I       8963\n",
       "to      8065\n",
       "a       7003\n",
       "dtype: int64"
      ]
     },
     "execution_count": 10,
     "metadata": {},
     "output_type": "execute_result"
    }
   ],
   "source": [
    "Freq(0,\"Review Text\")"
   ]
  },
  {
   "cell_type": "code",
   "execution_count": 11,
   "id": "voluntary-burlington",
   "metadata": {},
   "outputs": [
    {
     "data": {
      "text/plain": [
       "the    13570\n",
       "and     9768\n",
       "I       8963\n",
       "to      8065\n",
       "a       7003\n",
       "dtype: int64"
      ]
     },
     "execution_count": 11,
     "metadata": {},
     "output_type": "execute_result"
    }
   ],
   "source": [
    "Freq(0,\"Review Text\")"
   ]
  },
  {
   "cell_type": "code",
   "execution_count": 12,
   "id": "unlimited-classics",
   "metadata": {},
   "outputs": [],
   "source": [
    "import re\n",
    "import string\n",
    "import nltk\n",
    "from nltk.corpus import stopwords\n",
    "from nltk.stem import PorterStemmer, WordNetLemmatizer\n",
    "from nltk.tokenize import word_tokenize , sent_tokenize\n",
    "from nltk.corpus import wordnet"
   ]
  },
  {
   "cell_type": "code",
   "execution_count": 13,
   "id": "brief-excerpt",
   "metadata": {},
   "outputs": [
    {
     "name": "stderr",
     "output_type": "stream",
     "text": [
      "[nltk_data] Downloading package punkt to\n",
      "[nltk_data]     C:\\Users\\sneah\\AppData\\Roaming\\nltk_data...\n",
      "[nltk_data]   Package punkt is already up-to-date!\n"
     ]
    },
    {
     "data": {
      "text/plain": [
       "True"
      ]
     },
     "execution_count": 13,
     "metadata": {},
     "output_type": "execute_result"
    }
   ],
   "source": [
    "nltk.download('punkt') "
   ]
  },
  {
   "cell_type": "code",
   "execution_count": 14,
   "id": "twelve-judge",
   "metadata": {},
   "outputs": [
    {
     "name": "stderr",
     "output_type": "stream",
     "text": [
      "[nltk_data] Downloading package stopwords to\n",
      "[nltk_data]     C:\\Users\\sneah\\AppData\\Roaming\\nltk_data...\n",
      "[nltk_data]   Package stopwords is already up-to-date!\n"
     ]
    },
    {
     "data": {
      "text/plain": [
       "True"
      ]
     },
     "execution_count": 14,
     "metadata": {},
     "output_type": "execute_result"
    }
   ],
   "source": [
    "nltk.download('stopwords') "
   ]
  },
  {
   "cell_type": "code",
   "execution_count": 35,
   "id": "changing-collect",
   "metadata": {},
   "outputs": [
    {
     "name": "stderr",
     "output_type": "stream",
     "text": [
      "[nltk_data] Downloading package averaged_perceptron_tagger to\n",
      "[nltk_data]     C:\\Users\\sneah\\AppData\\Roaming\\nltk_data...\n",
      "[nltk_data]   Package averaged_perceptron_tagger is already up-to-\n",
      "[nltk_data]       date!\n"
     ]
    },
    {
     "data": {
      "text/plain": [
       "True"
      ]
     },
     "execution_count": 35,
     "metadata": {},
     "output_type": "execute_result"
    }
   ],
   "source": [
    "nltk.download('averaged_perceptron_tagger') "
   ]
  },
  {
   "cell_type": "code",
   "execution_count": 36,
   "id": "engaged-series",
   "metadata": {},
   "outputs": [
    {
     "name": "stderr",
     "output_type": "stream",
     "text": [
      "[nltk_data] Downloading package wordnet to\n",
      "[nltk_data]     C:\\Users\\sneah\\AppData\\Roaming\\nltk_data...\n",
      "[nltk_data]   Package wordnet is already up-to-date!\n"
     ]
    },
    {
     "data": {
      "text/plain": [
       "True"
      ]
     },
     "execution_count": 36,
     "metadata": {},
     "output_type": "execute_result"
    }
   ],
   "source": [
    "nltk.download('wordnet')"
   ]
  },
  {
   "cell_type": "code",
   "execution_count": 45,
   "id": "sixth-album",
   "metadata": {},
   "outputs": [],
   "source": [
    "def preprocess_text(df):\n",
    "    # Remove HTML tags\n",
    "    df['clean_text'] = df['Review Text'].apply(lambda x: re.sub(r'<.*?>', '', x))\n",
    "\n",
    "    # Convert to lowercase\n",
    "    df['clean_text'] = df['clean_text'].str.lower()\n",
    "\n",
    "    # Remove URLs\n",
    "    df['clean_text'] = df['clean_text'].apply(lambda x: re.sub(r'http\\S+|www\\.\\S+', '', x))\n",
    "\n",
    "    # Remove email addresses\n",
    "    df['clean_text'] = df['clean_text'].apply(lambda x: re.sub(r'\\S+@\\S+', '', x))\n",
    "\n",
    "    # Remove phone numbers\n",
    "    df['clean_text'] = df['clean_text'].apply(lambda x: re.sub(r'\\d{10}', '', x))\n",
    "    \n",
    "    # Handle negation\n",
    "    df['clean_text'] = df['clean_text'].apply(lambda x: re.sub(r'\\bnot\\b(\\w+)', r'not_\\1', x))\n",
    "\n",
    "    # Remove special characters and punctuation\n",
    "    df['clean_text'] = df['clean_text'].apply(lambda x: re.sub(r'[^a-zA-Z0-9\\s]', '', x))\n",
    "    df['clean_text'] = df['clean_text'].apply(lambda x: x.translate(str.maketrans('', '', string.punctuation)))\n",
    "    \n",
    "    # Remove numeric tokens\n",
    "    df['clean_text'] = df['clean_text'].apply(lambda x: re.sub(r'\\b\\d+\\b', '', x))\n",
    "\n",
    "    # Tokenization\n",
    "    df['tokens'] = df['clean_text'].apply(word_tokenize)\n",
    "\n",
    "    # Remove stopwords\n",
    "    stop_words = set(stopwords.words('english'))\n",
    "    df['tokens'] = df['tokens'].apply(lambda x: [word for word in x if word not in stop_words])\n",
    "\n",
    "    # Stemming\n",
    "    stemmer = PorterStemmer()\n",
    "    df['tokens'] = df['tokens'].apply(lambda x: [stemmer.stem(word) for word in x])\n",
    "\n",
    "    # Lemmatization\n",
    "    lemmatizer = WordNetLemmatizer()\n",
    "    df['tokens'] = df['tokens'].apply(lambda x: [lemmatizer.lemmatize(word, get_wordnet_pos(word)) for word in x])\n",
    "\n",
    "     # Convert tokens into a single string\n",
    "    df['tokens'] = df['tokens'].apply(lambda x: ' '.join(x))\n",
    "    \n",
    "    return df\n",
    "\n",
    "# Helper function to map POS tag to WordNet POS tag\n",
    "def get_wordnet_pos(word):\n",
    "    tag = nltk.pos_tag([word])[0][1][0].upper()\n",
    "    tag_dict = {\"J\": wordnet.ADJ, \"N\": wordnet.NOUN, \"V\": wordnet.VERB, \"R\": wordnet.ADV}\n",
    "    return tag_dict.get(tag, wordnet.NOUN)\n"
   ]
  },
  {
   "cell_type": "code",
   "execution_count": 46,
   "id": "international-optimization",
   "metadata": {},
   "outputs": [
    {
     "data": {
      "text/html": [
       "<div>\n",
       "<style scoped>\n",
       "    .dataframe tbody tr th:only-of-type {\n",
       "        vertical-align: middle;\n",
       "    }\n",
       "\n",
       "    .dataframe tbody tr th {\n",
       "        vertical-align: top;\n",
       "    }\n",
       "\n",
       "    .dataframe thead th {\n",
       "        text-align: right;\n",
       "    }\n",
       "</style>\n",
       "<table border=\"1\" class=\"dataframe\">\n",
       "  <thead>\n",
       "    <tr style=\"text-align: right;\">\n",
       "      <th></th>\n",
       "      <th>Review Text</th>\n",
       "      <th>Rating</th>\n",
       "      <th>clean_text</th>\n",
       "      <th>tokens</th>\n",
       "    </tr>\n",
       "  </thead>\n",
       "  <tbody>\n",
       "    <tr>\n",
       "      <th>0</th>\n",
       "      <td>I ordered egg soft noodles from here, they did...</td>\n",
       "      <td>0</td>\n",
       "      <td>i ordered egg soft noodles from here they didn...</td>\n",
       "      <td>order egg soft noodl didnt even includ spoon s...</td>\n",
       "    </tr>\n",
       "    <tr>\n",
       "      <th>1</th>\n",
       "      <td>Ice cream was good , but it's totally got melt...</td>\n",
       "      <td>0</td>\n",
       "      <td>ice cream was good  but its totally got melt a...</td>\n",
       "      <td>ice cream good total get melt deliveri boy tak...</td>\n",
       "    </tr>\n",
       "    <tr>\n",
       "      <th>2</th>\n",
       "      <td>Food was not good.Its from yesterday's food wi...</td>\n",
       "      <td>0</td>\n",
       "      <td>food was not goodits from yesterdays food with...</td>\n",
       "      <td>food goodit yesterday food less quanityi ask c...</td>\n",
       "    </tr>\n",
       "    <tr>\n",
       "      <th>3</th>\n",
       "      <td>food feels like the afternoon prepared and sen...</td>\n",
       "      <td>0</td>\n",
       "      <td>food feels like the afternoon prepared and sen...</td>\n",
       "      <td>food feel like afternoon prepar sent dinner</td>\n",
       "    </tr>\n",
       "    <tr>\n",
       "      <th>4</th>\n",
       "      <td>Bad reception and unprofessional staff,do not ...</td>\n",
       "      <td>0</td>\n",
       "      <td>bad reception and unprofessional staffdo not v...</td>\n",
       "      <td>bad recept unprofession staffdo visit place un...</td>\n",
       "    </tr>\n",
       "    <tr>\n",
       "      <th>...</th>\n",
       "      <td>...</td>\n",
       "      <td>...</td>\n",
       "      <td>...</td>\n",
       "      <td>...</td>\n",
       "    </tr>\n",
       "    <tr>\n",
       "      <th>9500</th>\n",
       "      <td>I have never written a review on yelp, but I h...</td>\n",
       "      <td>1</td>\n",
       "      <td>i have never written a review on yelp but i ha...</td>\n",
       "      <td>never write review yelp take time one phoenix ...</td>\n",
       "    </tr>\n",
       "    <tr>\n",
       "      <th>9501</th>\n",
       "      <td>I was previously saying at the Palazzo. My fam...</td>\n",
       "      <td>1</td>\n",
       "      <td>i was previously saying at the palazzo my fami...</td>\n",
       "      <td>previous say palazzo famili pastri bouchon day...</td>\n",
       "    </tr>\n",
       "    <tr>\n",
       "      <th>9502</th>\n",
       "      <td>AmÃ©lie's is always a vibe. I enjoy going ther...</td>\n",
       "      <td>1</td>\n",
       "      <td>amlies is always a vibe i enjoy going there be...</td>\n",
       "      <td>amli alway vibe enjoy go provid peac environ g...</td>\n",
       "    </tr>\n",
       "    <tr>\n",
       "      <th>9503</th>\n",
       "      <td>Yum! Great tasting ice cream. I have been here...</td>\n",
       "      <td>1</td>\n",
       "      <td>yum great tasting ice cream i have been here t...</td>\n",
       "      <td>yum great tast ice cream twice love tuesday ev...</td>\n",
       "    </tr>\n",
       "    <tr>\n",
       "      <th>9504</th>\n",
       "      <td>Fast and friendly service.....and the most del...</td>\n",
       "      <td>1</td>\n",
       "      <td>fast and friendly serviceand the most deliciou...</td>\n",
       "      <td>fast friendli serviceand delici birthday cake ...</td>\n",
       "    </tr>\n",
       "  </tbody>\n",
       "</table>\n",
       "<p>9505 rows × 4 columns</p>\n",
       "</div>"
      ],
      "text/plain": [
       "                                            Review Text  Rating  \\\n",
       "0     I ordered egg soft noodles from here, they did...       0   \n",
       "1     Ice cream was good , but it's totally got melt...       0   \n",
       "2     Food was not good.Its from yesterday's food wi...       0   \n",
       "3     food feels like the afternoon prepared and sen...       0   \n",
       "4     Bad reception and unprofessional staff,do not ...       0   \n",
       "...                                                 ...     ...   \n",
       "9500  I have never written a review on yelp, but I h...       1   \n",
       "9501  I was previously saying at the Palazzo. My fam...       1   \n",
       "9502  AmÃ©lie's is always a vibe. I enjoy going ther...       1   \n",
       "9503  Yum! Great tasting ice cream. I have been here...       1   \n",
       "9504  Fast and friendly service.....and the most del...       1   \n",
       "\n",
       "                                             clean_text  \\\n",
       "0     i ordered egg soft noodles from here they didn...   \n",
       "1     ice cream was good  but its totally got melt a...   \n",
       "2     food was not goodits from yesterdays food with...   \n",
       "3     food feels like the afternoon prepared and sen...   \n",
       "4     bad reception and unprofessional staffdo not v...   \n",
       "...                                                 ...   \n",
       "9500  i have never written a review on yelp but i ha...   \n",
       "9501  i was previously saying at the palazzo my fami...   \n",
       "9502  amlies is always a vibe i enjoy going there be...   \n",
       "9503  yum great tasting ice cream i have been here t...   \n",
       "9504  fast and friendly serviceand the most deliciou...   \n",
       "\n",
       "                                                 tokens  \n",
       "0     order egg soft noodl didnt even includ spoon s...  \n",
       "1     ice cream good total get melt deliveri boy tak...  \n",
       "2     food goodit yesterday food less quanityi ask c...  \n",
       "3           food feel like afternoon prepar sent dinner  \n",
       "4     bad recept unprofession staffdo visit place un...  \n",
       "...                                                 ...  \n",
       "9500  never write review yelp take time one phoenix ...  \n",
       "9501  previous say palazzo famili pastri bouchon day...  \n",
       "9502  amli alway vibe enjoy go provid peac environ g...  \n",
       "9503  yum great tast ice cream twice love tuesday ev...  \n",
       "9504  fast friendli serviceand delici birthday cake ...  \n",
       "\n",
       "[9505 rows x 4 columns]"
      ]
     },
     "execution_count": 46,
     "metadata": {},
     "output_type": "execute_result"
    }
   ],
   "source": [
    "preprocess_text(df)"
   ]
  },
  {
   "cell_type": "code",
   "execution_count": 47,
   "id": "rising-damage",
   "metadata": {},
   "outputs": [
    {
     "data": {
      "text/plain": [
       "get      1996\n",
       "order    1990\n",
       "place    1722\n",
       "go       1640\n",
       "like     1600\n",
       "dtype: int64"
      ]
     },
     "execution_count": 47,
     "metadata": {},
     "output_type": "execute_result"
    }
   ],
   "source": [
    "Freq(0,\"tokens\")"
   ]
  },
  {
   "cell_type": "code",
   "execution_count": 48,
   "id": "detected-dover",
   "metadata": {},
   "outputs": [
    {
     "data": {
      "text/plain": [
       "good     3772\n",
       "cream    3467\n",
       "place    3348\n",
       "ice      3207\n",
       "get      2693\n",
       "dtype: int64"
      ]
     },
     "execution_count": 48,
     "metadata": {},
     "output_type": "execute_result"
    }
   ],
   "source": [
    "Freq(1,\"tokens\")"
   ]
  },
  {
   "cell_type": "code",
   "execution_count": 49,
   "id": "republican-british",
   "metadata": {},
   "outputs": [],
   "source": []
  },
  {
   "cell_type": "code",
   "execution_count": 61,
   "id": "western-controversy",
   "metadata": {},
   "outputs": [],
   "source": [
    "X_train, X_test, Y_train, Y_test = train_test_split(df['tokens'], df['Rating'], test_size=0.2, random_state=42)"
   ]
  },
  {
   "cell_type": "code",
   "execution_count": 56,
   "id": "swiss-arrival",
   "metadata": {},
   "outputs": [],
   "source": [
    "from sklearn.feature_extraction.text import CountVectorizer\n",
    "from sklearn.ensemble import RandomForestClassifier\n",
    "from sklearn.naive_bayes import MultinomialNB\n",
    "from sklearn.svm import SVC\n",
    "from sklearn.metrics import accuracy_score, confusion_matrix, precision_score, recall_score, f1_score"
   ]
  },
  {
   "cell_type": "code",
   "execution_count": 63,
   "id": "special-mention",
   "metadata": {},
   "outputs": [
    {
     "data": {
      "text/plain": [
       "CountVectorizer()"
      ]
     },
     "execution_count": 63,
     "metadata": {},
     "output_type": "execute_result"
    }
   ],
   "source": [
    "cv = CountVectorizer()\n",
    "cv.fit(X_train)"
   ]
  },
  {
   "cell_type": "code",
   "execution_count": 64,
   "id": "later-model",
   "metadata": {},
   "outputs": [],
   "source": [
    "# Transform the training and test data using the fitted CountVectorizer\n",
    "BOW_X_train = cv.transform(X_train).toarray()\n",
    "BOW_X_test = cv.transform(X_test).toarray()"
   ]
  },
  {
   "cell_type": "code",
   "execution_count": 72,
   "id": "coupled-separate",
   "metadata": {},
   "outputs": [],
   "source": [
    "# Random Forest\n",
    "RF = RandomForestClassifier()\n",
    "RF.fit(BOW_X_train, Y_train)\n",
    "RF_Y_pred = RF.predict(BOW_X_test)\n",
    "RF_accuracy = accuracy_score(Y_test, RF_Y_pred)\n",
    "RF_cm = confusion_matrix(Y_test, RF_Y_pred)"
   ]
  },
  {
   "cell_type": "code",
   "execution_count": 73,
   "id": "chinese-wrapping",
   "metadata": {},
   "outputs": [],
   "source": [
    "# Multinomial Naive Bayes\n",
    "MNB = MultinomialNB(alpha=0.3, fit_prior=True)\n",
    "MNB.fit(BOW_X_train, Y_train)\n",
    "MNB_Y_pred = MNB.predict(BOW_X_test)\n",
    "MNB_accuracy = accuracy_score(Y_test, MNB_Y_pred)\n",
    "MNB_cm = confusion_matrix(Y_test, MNB_Y_pred)\n"
   ]
  },
  {
   "cell_type": "code",
   "execution_count": 67,
   "id": "eastern-husband",
   "metadata": {},
   "outputs": [],
   "source": [
    "# Support Vector Machine (SVM)\n",
    "SVM = SVC()\n",
    "SVM.fit(BOW_X_train, Y_train)\n",
    "SVM_Y_pred = SVM.predict(BOW_X_test)\n",
    "SVM_accuracy = accuracy_score(Y_test, SVM_Y_pred)\n",
    "SVM_cm = confusion_matrix(Y_test, SVM_Y_pred)"
   ]
  },
  {
   "cell_type": "code",
   "execution_count": 70,
   "id": "indonesian-church",
   "metadata": {},
   "outputs": [
    {
     "name": "stdout",
     "output_type": "stream",
     "text": [
      "AdaBoost Accuracy: 0.7769594950026302\n",
      "AdaBoost Confusion Matrix:\n",
      "[[ 452  317]\n",
      " [ 107 1025]]\n"
     ]
    }
   ],
   "source": [
    "from sklearn.ensemble import AdaBoostClassifier\n",
    "adaboost = AdaBoostClassifier()\n",
    "\n",
    "# Fit the AdaBoost classifier to the training data\n",
    "adaboost.fit(BOW_X_train, Y_train)\n",
    "\n",
    "# Make predictions on the test data\n",
    "adaboost_Y_pred = adaboost.predict(BOW_X_test)\n",
    "\n",
    "# Calculate accuracy score\n",
    "adaboost_accuracy = accuracy_score(Y_test, adaboost_Y_pred)\n",
    "print(\"AdaBoost Accuracy:\", adaboost_accuracy)\n",
    "\n",
    "# Calculate confusion matrix\n",
    "adaboost_cm = confusion_matrix(Y_test, adaboost_Y_pred)\n",
    "print(\"AdaBoost Confusion Matrix:\")\n",
    "print(adaboost_cm)"
   ]
  },
  {
   "cell_type": "code",
   "execution_count": 68,
   "id": "integrated-cocktail",
   "metadata": {},
   "outputs": [
    {
     "name": "stdout",
     "output_type": "stream",
     "text": [
      "Bernoulli Naive Bayes Accuracy: 0.8237769594950026\n",
      "Bernoulli Naive Bayes Confusion Matrix:\n",
      "[[573 196]\n",
      " [139 993]]\n",
      "Precision: 0.8351555929352397\n",
      "Recall: 0.877208480565371\n",
      "F1 Score: 0.8556656613528651\n"
     ]
    }
   ],
   "source": [
    "from sklearn.naive_bayes import BernoulliNB\n",
    "# Create an instance of the Bernoulli Naive Bayes classifier\n",
    "BNB = BernoulliNB(alpha=0.3, fit_prior=True)\n",
    "\n",
    "# Fit the classifier to the training data\n",
    "BNB.fit(BOW_X_train, Y_train)\n",
    "\n",
    "# Make predictions on the test data\n",
    "BNB_Y_pred = BNB.predict(BOW_X_test)\n",
    "\n",
    "# Calculate accuracy score\n",
    "BNB_accuracy = accuracy_score(Y_test, BNB_Y_pred)\n",
    "print(\"Bernoulli Naive Bayes Accuracy:\", BNB_accuracy)\n",
    "\n",
    "# Calculate confusion matrix\n",
    "BNB_cm = confusion_matrix(Y_test, BNB_Y_pred)\n",
    "print(\"Bernoulli Naive Bayes Confusion Matrix:\")\n",
    "print(BNB_cm)\n",
    "\n",
    "# Calculate precision, recall, and F1 score\n",
    "precision = precision_score(Y_test, BNB_Y_pred)\n",
    "recall = recall_score(Y_test, BNB_Y_pred)\n",
    "f1 = f1_score(Y_test, BNB_Y_pred)\n",
    "\n",
    "print(\"Precision:\", precision)\n",
    "print(\"Recall:\", recall)\n",
    "print(\"F1 Score:\", f1)\n"
   ]
  },
  {
   "cell_type": "code",
   "execution_count": 74,
   "id": "prospective-associate",
   "metadata": {},
   "outputs": [
    {
     "name": "stdout",
     "output_type": "stream",
     "text": [
      "Random Forest Accuracy: 0.8179905312993162\n",
      "Random Forest Confusion Matrix:\n",
      "[[ 523  246]\n",
      " [ 100 1032]]\n",
      "\n",
      "Multinomial Naive Bayes Accuracy: 0.8237769594950026\n",
      "Multinomial Naive Bayes Confusion Matrix:\n",
      "[[583 186]\n",
      " [149 983]]\n",
      "\n",
      "SVM Accuracy: 0.8195686480799579\n",
      "SVM Confusion Matrix:\n",
      "[[ 527  242]\n",
      " [ 101 1031]]\n",
      "\n",
      "Bernoulli Naive Bayes Accuracy: 0.8237769594950026\n",
      "Bernoulli Naive Bayes Confusion Matrix:\n",
      "[[573 196]\n",
      " [139 993]]\n",
      "\n",
      "AdaBoost Accuracy: 0.7769594950026302\n",
      "AdaBoost Confusion Matrix:\n",
      "[[ 452  317]\n",
      " [ 107 1025]]\n"
     ]
    }
   ],
   "source": [
    "# Print the results\n",
    "print(\"Random Forest Accuracy:\", RF_accuracy)\n",
    "print(\"Random Forest Confusion Matrix:\")\n",
    "print(RF_cm)\n",
    "print()\n",
    "print(\"Multinomial Naive Bayes Accuracy:\", MNB_accuracy)\n",
    "print(\"Multinomial Naive Bayes Confusion Matrix:\")\n",
    "print(MNB_cm)\n",
    "print()\n",
    "print(\"SVM Accuracy:\", SVM_accuracy)\n",
    "print(\"SVM Confusion Matrix:\")\n",
    "print(SVM_cm)\n",
    "print()\n",
    "print(\"Bernoulli Naive Bayes Accuracy:\", BNB_accuracy)\n",
    "print(\"Bernoulli Naive Bayes Confusion Matrix:\")\n",
    "print(BNB_cm)\n",
    "print()\n",
    "print(\"AdaBoost Accuracy:\", adaboost_accuracy)\n",
    "print(\"AdaBoost Confusion Matrix:\")\n",
    "print(adaboost_cm)"
   ]
  },
  {
   "cell_type": "code",
   "execution_count": 76,
   "id": "dedicated-loading",
   "metadata": {},
   "outputs": [],
   "source": [
    "from sklearn.feature_extraction.text import TfidfVectorizer\n",
    "tfidf = TfidfVectorizer(max_features=6000 ,ngram_range=(1,2),smooth_idf=False)\n",
    "\n",
    "tfidf.fit(X_train)\n",
    "\n",
    "# Transform the training and test data using the fitted CountVectorizer\n",
    "tfidf_X_train = tfidf.transform(X_train).toarray()\n",
    "tfidf_X_test = tfidf.transform(X_test).toarray()"
   ]
  },
  {
   "cell_type": "code",
   "execution_count": 77,
   "id": "tribal-pacific",
   "metadata": {},
   "outputs": [
    {
     "name": "stdout",
     "output_type": "stream",
     "text": [
      "SVM Train Accuracy: 0.979484481851657\n",
      "SVM Test Accuracy: 0.8369279326670174\n",
      "SVM Precision: 0.8407960199004975\n",
      "SVM Recall: 0.8957597173144877\n",
      "SVM F1 Score: 0.8674080410607357\n"
     ]
    }
   ],
   "source": [
    "# Fit the SVM classifier\n",
    "svm = SVC()\n",
    "svm.fit(tfidf_X_train, Y_train)\n",
    "\n",
    "# Make predictions on the training and test data for SVM\n",
    "svm_Y_train_pred = svm.predict(tfidf_X_train)\n",
    "svm_Y_test_pred = svm.predict(tfidf_X_test)\n",
    "\n",
    "# Calculate train and test accuracy for SVM\n",
    "svm_train_accuracy = accuracy_score(Y_train, svm_Y_train_pred)\n",
    "svm_test_accuracy = accuracy_score(Y_test, svm_Y_test_pred)\n",
    "\n",
    "# Calculate precision, recall, and F1 score for SVM\n",
    "svm_precision = precision_score(Y_test, svm_Y_test_pred)\n",
    "svm_recall = recall_score(Y_test, svm_Y_test_pred)\n",
    "svm_f1 = f1_score(Y_test, svm_Y_test_pred)\n",
    "\n",
    "print(\"SVM Train Accuracy:\", svm_train_accuracy)\n",
    "print(\"SVM Test Accuracy:\", svm_test_accuracy)\n",
    "print(\"SVM Precision:\", svm_precision)\n",
    "print(\"SVM Recall:\", svm_recall)\n",
    "print(\"SVM F1 Score:\", svm_f1)\n"
   ]
  },
  {
   "cell_type": "code",
   "execution_count": 80,
   "id": "corrected-wallpaper",
   "metadata": {},
   "outputs": [
    {
     "name": "stdout",
     "output_type": "stream",
     "text": [
      "Random Forest Train Accuracy: 0.9960547080483956\n",
      "Random Forest Test Accuracy: 0.8211467648605997\n",
      "Random Forest Precision: 0.8103448275862069\n",
      "Random Forest Recall: 0.9134275618374559\n",
      "Random Forest F1 Score: 0.8588039867109635\n"
     ]
    }
   ],
   "source": [
    "\n",
    "# Fit the Random Forest classifier\n",
    "rf = RandomForestClassifier(n_estimators=500)\n",
    "rf.fit(tfidf_X_train, Y_train)\n",
    "\n",
    "# Make predictions on the training and test data for Random Forest\n",
    "rf_Y_train_pred = rf.predict(tfidf_X_train)\n",
    "rf_Y_test_pred = rf.predict(tfidf_X_test)\n",
    "\n",
    "# Calculate train and test accuracy for Random Forest\n",
    "rf_train_accuracy = accuracy_score(Y_train, rf_Y_train_pred)\n",
    "rf_test_accuracy = accuracy_score(Y_test, rf_Y_test_pred)\n",
    "\n",
    "# Calculate precision, recall, and F1 score for Random Forest\n",
    "rf_precision = precision_score(Y_test, rf_Y_test_pred)\n",
    "rf_recall = recall_score(Y_test, rf_Y_test_pred)\n",
    "rf_f1 = f1_score(Y_test, rf_Y_test_pred)\n",
    "\n",
    "print(\"Random Forest Train Accuracy:\", rf_train_accuracy)\n",
    "print(\"Random Forest Test Accuracy:\", rf_test_accuracy)\n",
    "print(\"Random Forest Precision:\", rf_precision)\n",
    "print(\"Random Forest Recall:\", rf_recall)\n",
    "print(\"Random Forest F1 Score:\", rf_f1)\n"
   ]
  },
  {
   "cell_type": "code",
   "execution_count": 95,
   "id": "seasonal-aluminum",
   "metadata": {},
   "outputs": [
    {
     "name": "stdout",
     "output_type": "stream",
     "text": [
      "Bernoulli Naive Bayes Train Accuracy: 0.8711204629142556\n",
      "Bernoulli Naive Bayes Test Accuracy: 0.8406102051551815\n",
      "Bernoulli Naive Bayes Precision: 0.8697591436217663\n",
      "Bernoulli Naive Bayes Recall: 0.8613074204946997\n",
      "Bernoulli Naive Bayes F1 Score: 0.8655126498002663\n"
     ]
    }
   ],
   "source": [
    "\n",
    "# Fit the Bernoulli Naive Bayes classifier\n",
    "bnb = BernoulliNB(alpha=0.39800561441561, fit_prior=True)\n",
    "bnb.fit(tfidf_X_train, Y_train)\n",
    "\n",
    "# Make predictions on the training and test data for Bernoulli Naive Bayes\n",
    "bnb_Y_train_pred = bnb.predict(tfidf_X_train)\n",
    "bnb_Y_test_pred = bnb.predict(tfidf_X_test)\n",
    "\n",
    "# Calculate train and test accuracy for Bernoulli Naive Bayes\n",
    "bnb_train_accuracy = accuracy_score(Y_train, bnb_Y_train_pred)\n",
    "bnb_test_accuracy = accuracy_score(Y_test, bnb_Y_test_pred)\n",
    "\n",
    "# Calculate precision, recall, and F1 score for Bernoulli Naive Bayes\n",
    "bnb_precision = precision_score(Y_test, bnb_Y_test_pred)\n",
    "bnb_recall = recall_score(Y_test, bnb_Y_test_pred)\n",
    "bnb_f1 = f1_score(Y_test, bnb_Y_test_pred)\n",
    "\n",
    "print(\"Bernoulli Naive Bayes Train Accuracy:\", bnb_train_accuracy)\n",
    "print(\"Bernoulli Naive Bayes Test Accuracy:\", bnb_test_accuracy)\n",
    "print(\"Bernoulli Naive Bayes Precision:\", bnb_precision)\n",
    "print(\"Bernoulli Naive Bayes Recall:\", bnb_recall)\n",
    "print(\"Bernoulli Naive Bayes F1 Score:\", bnb_f1)"
   ]
  },
  {
   "cell_type": "code",
   "execution_count": 96,
   "id": "motivated-practice",
   "metadata": {},
   "outputs": [],
   "source": [
    "import pickle\n",
    "# Save the model as a .pkl file\n",
    "with open('bernoulli_model.pkl', 'wb') as file:\n",
    "    pickle.dump(bnb, file)"
   ]
  },
  {
   "cell_type": "code",
   "execution_count": 86,
   "id": "secret-guatemala",
   "metadata": {},
   "outputs": [
    {
     "name": "stdout",
     "output_type": "stream",
     "text": [
      "Multinomial Naive Bayes Train Accuracy: 0.8765123619147817\n",
      "Multinomial Naive Bayes Test Accuracy: 0.8274592319831667\n",
      "Multinomial Naive Bayes Precision: 0.8262987012987013\n",
      "Multinomial Naive Bayes Recall: 0.8992932862190812\n",
      "Multinomial Naive Bayes F1 Score: 0.8612521150592217\n"
     ]
    }
   ],
   "source": [
    "\n",
    "\n",
    "# Fit the Multinomial Naive Bayes classifier\n",
    "mnb = MultinomialNB(alpha=0.4, fit_prior=True)\n",
    "mnb.fit(tfidf_X_train, Y_train)\n",
    "\n",
    "# Make predictions on the training and test data for Multinomial Naive Bayes\n",
    "mnb_Y_train_pred = mnb.predict(tfidf_X_train)\n",
    "mnb_Y_test_pred = mnb.predict(tfidf_X_test)\n",
    "\n",
    "# Calculate train and test accuracy for Multinomial Naive Bayes\n",
    "mnb_train_accuracy = accuracy_score(Y_train, mnb_Y_train_pred)\n",
    "mnb_test_accuracy = accuracy_score(Y_test, mnb_Y_test_pred)\n",
    "\n",
    "# Calculate precision, recall, and F1 score for Multinomial Naive Bayes\n",
    "mnb_precision = precision_score(Y_test, mnb_Y_test_pred)\n",
    "mnb_recall = recall_score(Y_test, mnb_Y_test_pred)\n",
    "mnb_f1 = f1_score(Y_test, mnb_Y_test_pred)\n",
    "\n",
    "print(\"Multinomial Naive Bayes Train Accuracy:\", mnb_train_accuracy)\n",
    "print(\"Multinomial Naive Bayes Test Accuracy:\", mnb_test_accuracy)\n",
    "print(\"Multinomial Naive Bayes Precision:\", mnb_precision)\n",
    "print(\"Multinomial Naive Bayes Recall:\", mnb_recall)\n",
    "print(\"Multinomial Naive Bayes F1 Score:\", mnb_f1)"
   ]
  }
 ],
 "metadata": {
  "kernelspec": {
   "display_name": "Python 3",
   "language": "python",
   "name": "python3"
  },
  "language_info": {
   "codemirror_mode": {
    "name": "ipython",
    "version": 3
   },
   "file_extension": ".py",
   "mimetype": "text/x-python",
   "name": "python",
   "nbconvert_exporter": "python",
   "pygments_lexer": "ipython3",
   "version": "3.9.4"
  }
 },
 "nbformat": 4,
 "nbformat_minor": 5
}
